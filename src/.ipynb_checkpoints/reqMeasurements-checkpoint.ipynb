{
 "cells": [
  {
   "cell_type": "code",
   "execution_count": 1,
   "id": "89ba54de-ef90-475d-aec4-c337044ed714",
   "metadata": {
    "tags": []
   },
   "outputs": [],
   "source": [
    "import pandas as pd\n",
    "import numpy as np\n",
    "import statistics as stat\n",
    "import random as random"
   ]
  },
  {
   "cell_type": "markdown",
   "id": "238d0075",
   "metadata": {},
   "source": [
    "# Ear Phenotypes"
   ]
  },
  {
   "cell_type": "code",
   "execution_count": 13,
   "id": "00912e26-b399-47f4-8452-a13482d10267",
   "metadata": {
    "tags": []
   },
   "outputs": [],
   "source": [
    "dTypes = {'QR Code':str, 'Ear Width':float, 'Kernel Fill Length':float, 'Kernel Row Number':int, 'Kernels per Row': int, 'Ear Weight':float, 'Kernel Count':int, 'Cob Width': float, 'Cob Length':float, 'Cob Weight':float, '100 Kernel weight': float}\n",
    "useCols = [1, 4, 5, 6, 7, 8, 9, 10, 11, 12, 13]\n",
    "df1 = pd.read_csv('../data/earphenotypesformatted.csv')\n",
    "df2 = pd.read_csv('../data/earphenotypesformatted.csv')\n",
    "fileList = [df1, df2]"
   ]
  },
  {
   "cell_type": "code",
   "execution_count": null,
   "id": "0b101fa6-f4da-4209-abdc-548e02358f2b",
   "metadata": {
    "tags": []
   },
   "outputs": [],
   "source": [
    "# What if we just concat and pivot\n",
    "earDf = pd.concat([df1, df2])\n",
    "earDf = earDf.replace('N/A', '')\n",
    "try:\n",
    "    earDf['Kernel Mass'] = earDf['Ear Weight'] - earDf['Cob Weight']\n",
    "except:\n",
    "    pass\n",
    "earDf['QR Code'].astype(str)\n",
    "earDf['QR Code'] = earDf['QR Code'].upper()\n",
    "plotDf = pd.pivot(earDf, index = 'QR Code')"
   ]
  },
  {
   "cell_type": "code",
   "execution_count": 18,
   "id": "89d8a6a8-e4bc-463a-b0e1-e67cb57039fd",
   "metadata": {},
   "outputs": [],
   "source": [
    "# Get all the ears into a nice data frame with one row per plot and a list of the values for each trait\n",
    "# Code written by James & refactored\n",
    "qrCodes = {}\n",
    "traitList = ['Ear Width', 'Kernel Fill Length', 'Kernel Row Number', 'Kernels per Row', 'Ear Weight', 'Kernel Count', 'Cob Length', 'Cob Width', 'Cob Weight', '100 Kernel weight']\n",
    "\n",
    "for i in range(len(fileList)):\n",
    "    for index,row in fileList[i].iterrows():\n",
    "        qr = row[\"QR Code\"].upper()\n",
    "        if not qr in qrCodes:\n",
    "            qrCodes[qr] = {}\n",
    "            for t in traitList:\n",
    "                qrCodes[qr][t] = []\n",
    "            qrCodes[qr][\"Kernel Mass\"] = []\n",
    "        for t in traitList:\n",
    "            if pd.isna(row[t]): continue\n",
    "            try:\n",
    "                qrCodes[qr][t].append(float(str(row[t]).replace('%','')))\n",
    "            except:\n",
    "                continue\n",
    "        try:\n",
    "            mygrainmass = float(row[\"Ear Weight\"]) - float(row[\"Cob Weight\"])\n",
    "            if not pd.isna(mygrainmass):\n",
    "                qrCodes[qr][\"Kernel Mass\"].append(mygrainmass)\n",
    "        except:\n",
    "            continue\n"
   ]
  },
  {
   "cell_type": "code",
   "execution_count": null,
   "id": "f2c95428",
   "metadata": {},
   "outputs": [],
   "source": [
    "\n"
   ]
  },
  {
   "cell_type": "code",
   "execution_count": 19,
   "id": "e8efe9a0-4aa3-4bda-8abe-20ef13fb6331",
   "metadata": {
    "tags": []
   },
   "outputs": [
    {
     "ename": "SyntaxError",
     "evalue": "incomplete input (4687646.py, line 3)",
     "output_type": "error",
     "traceback": [
      "\u001b[0;36m  Cell \u001b[0;32mIn[19], line 3\u001b[0;36m\u001b[0m\n\u001b[0;31m    \u001b[0m\n\u001b[0m    ^\u001b[0m\n\u001b[0;31mSyntaxError\u001b[0m\u001b[0;31m:\u001b[0m incomplete input\n"
     ]
    }
   ],
   "source": [
    "for qr in qrCodes:\n",
    "    for t in traitList:\n",
    "        "
   ]
  },
  {
   "cell_type": "code",
   "execution_count": null,
   "id": "c30409df-1ef4-4a1a-a666-9893abae4363",
   "metadata": {},
   "outputs": [],
   "source": []
  }
 ],
 "metadata": {
  "kernelspec": {
   "display_name": "Python 3 (ipykernel)",
   "language": "python",
   "name": "python3"
  },
  "language_info": {
   "codemirror_mode": {
    "name": "ipython",
    "version": 3
   },
   "file_extension": ".py",
   "mimetype": "text/x-python",
   "name": "python",
   "nbconvert_exporter": "python",
   "pygments_lexer": "ipython3",
   "version": "3.11.5"
  }
 },
 "nbformat": 4,
 "nbformat_minor": 5
}
