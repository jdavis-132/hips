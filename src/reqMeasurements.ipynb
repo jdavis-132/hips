{
 "cells": [
  {
   "cell_type": "code",
   "execution_count": null,
   "id": "89ba54de-ef90-475d-aec4-c337044ed714",
   "metadata": {
    "tags": []
   },
   "outputs": [],
   "source": [
    "import pandas as pd\n",
    "import numpy as np\n",
    "import statistics as stat\n",
    "import random as random\n",
    "import math as math"
   ]
  },
  {
   "cell_type": "markdown",
   "id": "238d0075",
   "metadata": {},
   "source": [
    "# Ear Phenotypes"
   ]
  },
  {
   "cell_type": "code",
   "execution_count": null,
   "id": "00912e26-b399-47f4-8452-a13482d10267",
   "metadata": {
    "tags": []
   },
   "outputs": [],
   "source": [
    "useCols = [1, 4, 5, 6, 7, 8, 9, 10, 11, 12, 13]\n",
    "df1 = pd.read_csv('../data/earphenotypesformatted.csv', na_values = {'a/n', 'a'}, usecols = useCols)\n",
    "df2 = pd.read_csv('../data/earphenotypesformatted.csv', na_values = {'a/n', 'a'}, usecols = useCols)\n",
    "fileList = [df1, df2]\n",
    "traitList = ['Ear Width', 'Kernel Fill Length', 'Kernel Row Number', 'Kernels per Row', 'Ear Weight', 'Kernel Count', 'Cob Length', 'Cob Width', 'Cob Weight', '100 Kernel weight']"
   ]
  },
  {
   "cell_type": "code",
   "execution_count": null,
   "id": "0b101fa6-f4da-4209-abdc-548e02358f2b",
   "metadata": {
    "tags": []
   },
   "outputs": [],
   "source": [
    "# What if we just concat and pivot\n",
    "ears = pd.concat([df1, df2])\n",
    "ears = ears.reset_index(drop=False)\n",
    "ears = ears.replace({'22.94.':'22.94'})\n",
    "ears['Kernel Mass'] = ears['Ear Weight'].astype(float) - ears['Cob Weight'].astype(float)\n",
    "ears['QR Code'].astype(str)\n",
    "ears['QR Code'] = ears['QR Code'].str.upper()\n",
    "ears['earNum'] = ears.groupby('QR Code').cumcount()\n",
    "ears = ears[ears['earNum'] < 4]\n",
    "ears = ears[~ears['QR Code'].str.contains('INBRED')]\n",
    "plots = pd.pivot(ears, index = 'QR Code', columns = 'earNum')\n",
    "traitList.append('Kernel Mass')\n",
    "plots = plots.astype(float)"
   ]
  },
  {
   "cell_type": "code",
   "execution_count": null,
   "id": "54b707bc-51d0-4a1b-95b3-9729ddf7dd3b",
   "metadata": {
    "tags": []
   },
   "outputs": [],
   "source": [
    "plots.dtypes"
   ]
  },
  {
   "cell_type": "code",
   "execution_count": null,
   "id": "89d8a6a8-e4bc-463a-b0e1-e67cb57039fd",
   "metadata": {
    "tags": []
   },
   "outputs": [],
   "source": [
    "# Now that we have our nice data frame, we need to calculate the mean and standard error with all possible sets of 4 and all possible sets of 2 for each trait.\n",
    "index30 = [1, 2, 3]\n",
    "index31 = [0, 2, 3]\n",
    "index32 = [0, 1, 2]\n",
    "index20 = [0, 1]\n",
    "index21 = [0, 2]\n",
    "index22= [0, 3]\n",
    "index23 = [1, 2]\n",
    "index24= [1, 3]\n",
    "index25= [2, 3]\n",
    "index3List = [index30, index31, index32]\n",
    "index3ListStr = ['30', '31', '32']\n",
    "index2List = [index20, index21, index22, index23, index24, index25]\n",
    "index2ListStr = ['20', '21', '22', '23', '24', '25']\n",
    "\n",
    "results = pd.DataFrame()\n",
    "for i in traitList:\n",
    "    mean = i + 'mean' + '4'\n",
    "    se = i + 'se' + '4'\n",
    "    meanSeries = (plots[i][[0, 1, 2, 3]]).mean(axis = 1)\n",
    "    results[mean] = meanSeries\n",
    "    seSeries = (plots[i][[0, 1, 2, 3]]).sem(axis = 1)\n",
    "    results[se] = seSeries\n",
    "    \n",
    "    for j in range(3):\n",
    "        mean = i + 'mean' + index3ListStr[j]\n",
    "        se = i + 'se' + index3ListStr[j]\n",
    "        index = index3List[j]\n",
    "        meanSeries = (plots[i][index]).mean(axis = 1)\n",
    "        seSeries = (plots[i][index]).sem(axis = 1)\n",
    "        results[mean] = meanSeries\n",
    "        results[se] = seSeries\n",
    "        \n",
    "    for k in range(6):\n",
    "        mean = i + 'mean' + index2ListStr[k]\n",
    "        se = i + 'se' + index2ListStr[k]\n",
    "        index = index2List[k]\n",
    "        meanSeries = (plots[i][index]).mean(axis = 1)\n",
    "        seSeries = (plots[i][index]).sem(axis = 1)\n",
    "        results[mean] = meanSeries\n",
    "        results[se] = seSeries"
   ]
  },
  {
   "cell_type": "code",
   "execution_count": null,
   "id": "bf14cc11-1858-4c3b-b918-5ea97f6ea5df",
   "metadata": {
    "tags": []
   },
   "outputs": [],
   "source": [
    "meanSeries"
   ]
  },
  {
   "cell_type": "code",
   "execution_count": null,
   "id": "0a3f64bc-be2d-4615-a623-5310d3410f44",
   "metadata": {
    "tags": []
   },
   "outputs": [],
   "source": [
    "results"
   ]
  },
  {
   "cell_type": "code",
   "execution_count": null,
   "id": "0e345ed4-36de-40d9-9637-2b7434781e9a",
   "metadata": {
    "tags": []
   },
   "outputs": [],
   "source": [
    "avgSE = pd.DataFrame()\n",
    "for t in traitList:\n",
    "    traitSE2 = t + '.SE.2'\n",
    "    traitSE3 = t + '.SE.3'\n",
    "    \n",
    "    seCols2 = []\n",
    "    for i in index2ListStr:\n",
    "        colName = t + 'se' + i\n",
    "        seCols2.append(colName)\n",
    "     \n",
    "    seCols3 = []\n",
    "    for j in index3ListStr:\n",
    "        colName = t + 'se' + j\n",
    "        seCols3.append(colName)\n",
    "    avgSE[traitSE2] = results[seCols2].mean(axis = 1)\n",
    "    avgSE[traitSE3] = results[seCols3].mean(axis = 1)\n",
    "    "
   ]
  },
  {
   "cell_type": "code",
   "execution_count": null,
   "id": "c8d3ee57-154c-4bdb-9859-51acae3f146e",
   "metadata": {
    "tags": []
   },
   "outputs": [],
   "source": []
  },
  {
   "cell_type": "code",
   "execution_count": null,
   "id": "ab2e77de-93cb-46a6-8690-04cb3bdc42ee",
   "metadata": {
    "tags": []
   },
   "outputs": [],
   "source": [
    "corrPerSet = pd.DataFrame()\n",
    "\n",
    "for t in traitList:\n",
    "    fullMeanCol = t + 'mean' + '4'\n",
    "    \n",
    "    for i in index2ListStr:\n",
    "        colName = t + 'mean' + i\n",
    "        cor = results[colName].corr(results[fullMeanCol])\n",
    "        corrPerSet[colName] = pd.Series()\n",
    "        corrPerSet.at[0, colName] = cor\n",
    "    for j in index3ListStr:\n",
    "        colName = t + 'mean' + j\n",
    "        cor = results[colName].corr(results[fullMeanCol])\n",
    "        corrPerSet.at[0, colName] = cor\n",
    "        \n",
    "    for k in range(4):\n",
    "        colName = t + '.Corr.' + k\n",
    "        cor = plots[t][[k]].corr(results[fullMeanCol])\n",
    "        corrPerSet[colName] = pd.Series()\n",
    "        corrPerSet.at[0, colName] = cor\n",
    "    "
   ]
  },
  {
   "cell_type": "code",
   "execution_count": null,
   "id": "2823cfdc-c645-4b9b-a321-c5cb40cdbc88",
   "metadata": {
    "tags": []
   },
   "outputs": [],
   "source": [
    "corrPerSet.columns"
   ]
  },
  {
   "cell_type": "code",
   "execution_count": null,
   "id": "38c28deb-9628-4734-b367-454fc7a3bb8d",
   "metadata": {
    "tags": []
   },
   "outputs": [],
   "source": [
    "summary = pd.DataFrame({'Set Size':[1, 2, 3, 4]})\n",
    "\n",
    "for t in traitList:\n",
    "    sem = t + '.MeanSEM'\n",
    "    corr = t + '.MeanCorr'\n",
    "    sem2 = t + '.SE.2'\n",
    "    sem3 = t + '.SE.3'\n",
    "    semFull = t + 'se4'\n",
    "    \n",
    "    meanCols2 = []\n",
    "    for i in index2ListStr:\n",
    "        colName = t + 'mean' + i\n",
    "        meanCols2.append(colName)\n",
    "        \n",
    "    meanCols3 = []\n",
    "    for j in index3ListStr:\n",
    "        colName = t + 'mean' + j\n",
    "        meanCols3.append(colName)\n",
    "    \n",
    "    meanCols1 = []\n",
    "    for k in range(4):\n",
    "        colName = t + '.Corr.' + k\n",
    "        meanCols1.append(colName)\n",
    "        \n",
    "    summary.at[1, sem] = avgSE[sem2].mean(axis = 0)\n",
    "    summary.at[2, sem] = avgSE[sem3].mean(axis = 0)\n",
    "    summary.at[3, sem] = results[semFull].mean(axis = 0)\n",
    "    \n",
    "    summary.at[0, corr] = corrPerSet[meanCols1].mean().values[0]\n",
    "    summary.at[1, corr] = corrPerSet[meanCols2].mean().values[0]\n",
    "    summary.at[2, corr] = corrPerSet[meanCols3].mean().values[0]\n",
    "    summary.at[3, corr] = 1"
   ]
  },
  {
   "cell_type": "code",
   "execution_count": null,
   "id": "6bf27c5b-9011-43c9-b1c4-241e4631dee5",
   "metadata": {
    "tags": []
   },
   "outputs": [],
   "source": [
    "# Export to csv\n",
    "summary.to_csv('../analysis/RequiredNumberOfMeasurements_EarPhenotypes.csv', index = False)"
   ]
  },
  {
   "cell_type": "markdown",
   "id": "f886ebe9-d787-4dec-a1c5-808d692f65cc",
   "metadata": {},
   "source": [
    "# NIR"
   ]
  },
  {
   "cell_type": "code",
   "execution_count": null,
   "id": "f7db6368-67aa-4ca9-84ac-315163c5323f",
   "metadata": {
    "tags": []
   },
   "outputs": [],
   "source": [
    "nir = pd.read_excel('../data/NIRData.xlsx', sheet_name = 'in', dtype = {'Sample ID':str})\n",
    "nir['protein'] = nir['Protein As is'] / (1 - (nir['Moisture'] / 100))\n",
    "nir['oil'] = nir['Oil As is'] / ( 1 - (nir['Moisture'] / 100))\n",
    "nir['fiber'] = nir['Fiber As is'] / (1 - (nir['Moisture'] / 100))\n",
    "nir['ash'] = nir['Ash As is'] / (1 - (nir['Moisture'] / 100))\n",
    "nir['starch'] = nir['Starch As is'] / (1 - (nir['Moisture'] / 100))\n",
    "nir['qr'] = nir['Sample ID'].str.upper()\n",
    "nir['qr'] = nir['qr'].astype(str)\n",
    "nir = nir.rename(columns = {'Moisture':'moisture'})\n",
    "traits = ['starch', 'protein', 'oil', 'fiber', 'ash', 'moisture']\n",
    "nir = nir[['qr', 'starch', 'protein', 'oil', 'fiber', 'ash', 'moisture']]\n",
    "nir = nir[~nir['qr'].str.contains('SYNGENTA')]\n",
    "nir = nir[~nir['qr'].str.contains('INBRED')]\n",
    "numRecordsTotal = nir.shape[0]\n",
    "nir = nir[(nir['starch'] >= 0) & (nir['protein'] >= 0) & (nir['oil'] >= 0) & (nir['fiber'] >= 0) & (nir['ash'] >= 0) & (nir['moisture'] >= 0)]\n",
    "numRecordsPosVals = nir.shape[0]\n",
    "percentNegVals = (numRecordsTotal - numRecordsPosVals)/numRecordsTotal\n",
    "nir['i'] = nir.groupby('qr').cumcount()\n",
    "nir = nir[nir['i'] < 3]\n",
    "\n",
    "nirWide = pd.pivot(nir, index = 'qr', columns = 'i')"
   ]
  },
  {
   "cell_type": "code",
   "execution_count": null,
   "id": "b799c2c2-468b-4848-8ea8-538fc31ad2cd",
   "metadata": {
    "tags": []
   },
   "outputs": [],
   "source": [
    "percentNegVals\n",
    "nirWide"
   ]
  },
  {
   "cell_type": "code",
   "execution_count": null,
   "id": "da1638b0-b694-4c56-900a-82fefb62e380",
   "metadata": {
    "tags": []
   },
   "outputs": [],
   "source": [
    "index3 = [0, 1, 2]\n",
    "index20 = [1, 2]\n",
    "index21 = [0, 2]\n",
    "index22 = [0, 1]\n",
    "index2List = [index20, index21, index22]\n",
    "index2ListStr = ['20', '21', '22']\n",
    "nirResults = pd.DataFrame()\n",
    "\n",
    "for t in traits:\n",
    "    mean3 = t + '.Mean.3'\n",
    "    se3 = t + '.SE.3'\n",
    "    meanSeries = (nirWide[t][index3]).mean(axis = 1)\n",
    "    seSeries = (nirWide[t][index3]).sem(axis = 1)\n",
    "    nirResults[mean3] = meanSeries\n",
    "    nirResults[se3] = seSeries\n",
    "    \n",
    "    for i in range(3):\n",
    "        meanCol = t + '.Mean.' + index2ListStr[i]\n",
    "        seCol = t + '.SE.' + index2ListStr[i]\n",
    "        meanSeries = (nirWide[t][index2List[i]]).mean(axis = 1)\n",
    "        seSeries = (nirWide[t][index2List[i]]).sem(axis = 1)\n",
    "        nirResults[meanCol] = meanSeries\n",
    "        nirResults[seCol] = seSeries   \n"
   ]
  },
  {
   "cell_type": "code",
   "execution_count": null,
   "id": "891bc388-efdf-4cac-a702-004515c2eb44",
   "metadata": {
    "tags": []
   },
   "outputs": [],
   "source": [
    "nirAvgSE = pd.DataFrame()\n",
    "\n",
    "for t in traits:\n",
    "    colName = t + '.SE.2'\n",
    "    \n",
    "    cols = []\n",
    "    for i in range(3):\n",
    "        col = t + '.SE.' + index2ListStr[i]\n",
    "        cols.append(col)\n",
    "    \n",
    "    series = nirResults[cols].mean(axis = 1)\n",
    "    nirAvgSE[colName] = series"
   ]
  },
  {
   "cell_type": "code",
   "execution_count": null,
   "id": "1991d6ed-d0b9-47a1-800e-f3a45768aa3f",
   "metadata": {
    "tags": []
   },
   "outputs": [],
   "source": [
    "nirCorrPerSet = pd.DataFrame()\n",
    "\n",
    "for t in traits:\n",
    "    fullMeanCol = t + '.Mean.3'\n",
    "    \n",
    "    for i in index2ListStr:\n",
    "        colName = t + '.Mean.' + i\n",
    "        cor = nirResults[colName].corr(nirResults[fullMeanCol])\n",
    "        nirCorrPerSet[colName] = pd.Series()\n",
    "        nirCorrPerSet.at[0, colName] = cor\n",
    "        \n",
    "    for j in range(3):\n",
    "        colName = t + '.Corr.' + j\n",
    "        cor = nirWide[t][[j]].corr(nirResults[fullMeanCol])\n",
    "        nirCorrPerSet[colName] = pd.Series()\n",
    "        nirCorrPerSet.at[0, colName] = cor\n",
    "        "
   ]
  },
  {
   "cell_type": "code",
   "execution_count": null,
   "id": "238a2796-45ad-4cea-8659-130d84631252",
   "metadata": {
    "tags": []
   },
   "outputs": [],
   "source": [
    "nirSummary = pd.DataFrame({'Set Size': [1, 2, 3]})\n",
    "\n",
    "for t in traits:\n",
    "    sem = t + '.MeanSEM'\n",
    "    corr = t + '.MeanCorr'\n",
    "    sem2 = t + '.SE.2'\n",
    "    sem3 = t + '.SE.3'\n",
    "    \n",
    "    meanCols = []\n",
    "    for i in index2ListStr:\n",
    "        colName = t + '.Mean.' + i\n",
    "        meanCols.append(colName)\n",
    "    \n",
    "    nirSummary.at[0, sem] = nirAvgSE[sem2].mean()\n",
    "    nirSummary.at[1, sem] = nirResults[sem3].mean()\n",
    "    \n",
    "    nirSummary.at[0, corr] = nirCorrPerSet[meanCols].mean().values[0]\n",
    "    nirSummary.at[1, corr] = 1"
   ]
  },
  {
   "cell_type": "code",
   "execution_count": null,
   "id": "b306e986-fed0-45b8-8391-6b258b81864d",
   "metadata": {
    "tags": []
   },
   "outputs": [],
   "source": [
    "# Export as csv\n",
    "nirSummary.to_csv('../analysis/RequiredNumberOfMeasurements_NIR.csv', index = False)"
   ]
  },
  {
   "cell_type": "code",
   "execution_count": 28,
   "id": "897d0e99-e50c-429a-ab01-9d1e0825fd54",
   "metadata": {
    "tags": []
   },
   "outputs": [],
   "source": [
    "avgSEAll = avgSE.join(other = nirAvgSE, how = 'outer')\n",
    "fullSEEars = results.filter(like = 'se4')\n",
    "fullSENIR = nirResults.filter(like = '.SE.3')\n",
    "avgSEAll = avgSEAll.join(other = fullSEEars, how = 'outer')\n",
    "avgSEAll = avgSEAll.join(other = fullSENIR, how = 'outer')\n",
    "avgSEAll = avgSEAll.rename({'Ear Width.SE.2':'earWidth2', 'Ear Width.SE.3':'earWidth3', \n",
    "                            'Kernel Fill Length.SE.2':'earFillLength2', 'Kernel Fill Length.SE.3':'earFillLength3', \n",
    "                            'Kernel Row Number.SE.2':'kernelRowNumber2', 'Kernel Row Number.SE.3':'kernelRowNumber3',\n",
    "                            'Kernels per Row.SE.2':'kernelsPerRow2', 'Kernels per Row.SE.3':'kernelsPerRow3', \n",
    "                            'Ear Weight.SE.2':'earMass2', 'Ear Weight.SE.3':'earMass3', \n",
    "                            'Kernel Count.SE.2':'kernelsPerEar2', 'Kernel Count.SE.3':'kernelsPerEar3', \n",
    "                            'Cob Length.SE.2':'earLength2', 'Cob Length.SE.3':'earLength3', \n",
    "                            'Cob Width.SE.2':'shelledCobWidth2', 'Cob Width.SE.3':'shelledCobWidth3',\n",
    "                            'Cob Weight.SE.2':'shelledCobMass2', 'Cob Weight.SE.3':'shelledCobMass3',\n",
    "                            '100 Kernel weight.SE.2':'hundredKernelMass2', '100 Kernel weight.SE.3':'hundredKernelMass3',\n",
    "                            'Kernel Mass.SE.2':'kernelMassPerEar2', 'Kernel Mass.SE.3':'kernelMassPerEar3', \n",
    "                            'starch.SE.2':'starch2', 'protein.SE.2':'protein2', 'oil.SE.2':'oil2', 'fiber.SE.2':'fiber2',\n",
    "                            'ash.SE.2':'ash2', 'moisture.SE.2':'moisture2', 'Ear Widthse4':'earWidth4', \n",
    "                            'Kernel Fill Lengthse4':'earFillLength4', 'Kernel Row Numberse4':'kernelRowNumber4', \n",
    "                            'Kernels per Rowse4':'kernelsPerRow4', 'Ear Weightse4':'ear"
   ]
  },
  {
   "cell_type": "code",
   "execution_count": 29,
   "id": "6b6057fa-4fba-412a-8882-1806f56da55e",
   "metadata": {
    "tags": []
   },
   "outputs": [
    {
     "data": {
      "text/plain": [
       "Index(['Ear Width.SE.2', 'Ear Width.SE.3', 'Kernel Fill Length.SE.2',\n",
       "       'Kernel Fill Length.SE.3', 'Kernel Row Number.SE.2',\n",
       "       'Kernel Row Number.SE.3', 'Kernels per Row.SE.2',\n",
       "       'Kernels per Row.SE.3', 'Ear Weight.SE.2', 'Ear Weight.SE.3',\n",
       "       'Kernel Count.SE.2', 'Kernel Count.SE.3', 'Cob Length.SE.2',\n",
       "       'Cob Length.SE.3', 'Cob Width.SE.2', 'Cob Width.SE.3',\n",
       "       'Cob Weight.SE.2', 'Cob Weight.SE.3', '100 Kernel weight.SE.2',\n",
       "       '100 Kernel weight.SE.3', 'Kernel Mass.SE.2', 'Kernel Mass.SE.3',\n",
       "       'starch.SE.2', 'protein.SE.2', 'oil.SE.2', 'fiber.SE.2', 'ash.SE.2',\n",
       "       'moisture.SE.2', 'Ear Widthse4', 'Kernel Fill Lengthse4',\n",
       "       'Kernel Row Numberse4', 'Kernels per Rowse4', 'Ear Weightse4',\n",
       "       'Kernel Countse4', 'Cob Lengthse4', 'Cob Widthse4', 'Cob Weightse4',\n",
       "       '100 Kernel weightse4', 'Kernel Massse4', 'starch.SE.3', 'protein.SE.3',\n",
       "       'oil.SE.3', 'fiber.SE.3', 'ash.SE.3', 'moisture.SE.3'],\n",
       "      dtype='object')"
      ]
     },
     "execution_count": 29,
     "metadata": {},
     "output_type": "execute_result"
    }
   ],
   "source": []
  },
  {
   "cell_type": "code",
   "execution_count": null,
   "id": "15839bf7-efe5-4ac0-b255-fe68df1d2fb8",
   "metadata": {},
   "outputs": [],
   "source": []
  }
 ],
 "metadata": {
  "kernelspec": {
   "display_name": "Python 3 (ipykernel)",
   "language": "python",
   "name": "python3"
  },
  "language_info": {
   "codemirror_mode": {
    "name": "ipython",
    "version": 3
   },
   "file_extension": ".py",
   "mimetype": "text/x-python",
   "name": "python",
   "nbconvert_exporter": "python",
   "pygments_lexer": "ipython3",
   "version": "3.11.5"
  }
 },
 "nbformat": 4,
 "nbformat_minor": 5
}
