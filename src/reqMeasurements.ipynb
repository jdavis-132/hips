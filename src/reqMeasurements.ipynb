{
 "cells": [
  {
   "cell_type": "code",
   "execution_count": 2,
   "id": "89ba54de-ef90-475d-aec4-c337044ed714",
   "metadata": {
    "tags": []
   },
   "outputs": [],
   "source": [
    "import pandas as pd\n",
    "import numpy as np\n",
    "import statistics as stat\n",
    "import random as random\n",
    "import math as math"
   ]
  },
  {
   "cell_type": "markdown",
   "id": "238d0075",
   "metadata": {},
   "source": [
    "# Ear Phenotypes"
   ]
  },
  {
   "cell_type": "code",
   "execution_count": 3,
   "id": "00912e26-b399-47f4-8452-a13482d10267",
   "metadata": {
    "tags": []
   },
   "outputs": [],
   "source": [
    "useCols = [1, 4, 5, 6, 7, 8, 9, 10, 11, 12, 13]\n",
    "df1 = pd.read_csv('../data/earphenotypesformatted.csv', na_values = {'a/n', 'a'}, usecols = useCols)\n",
    "df2 = pd.read_csv('../data/earphenotypesformatted.csv', na_values = {'a/n', 'a'}, usecols = useCols)\n",
    "fileList = [df1, df2]\n",
    "traitList = ['Ear Width', 'Kernel Fill Length', 'Kernel Row Number', 'Kernels per Row', 'Ear Weight', 'Kernel Count', 'Cob Length', 'Cob Width', 'Cob Weight', '100 Kernel weight']"
   ]
  },
  {
   "cell_type": "code",
   "execution_count": 4,
   "id": "0b101fa6-f4da-4209-abdc-548e02358f2b",
   "metadata": {
    "tags": []
   },
   "outputs": [],
   "source": [
    "# What if we just concat and pivot\n",
    "ears = pd.concat([df1, df2])\n",
    "ears = ears.reset_index(drop=False)\n",
    "ears = ears.replace({'22.94.':'22.94'})\n",
    "ears['Kernel Mass'] = ears['Ear Weight'].astype(float) - ears['Cob Weight'].astype(float)\n",
    "ears['QR Code'].astype(str)\n",
    "ears['QR Code'] = ears['QR Code'].str.upper()\n",
    "ears['earNum'] = ears.groupby('QR Code').cumcount()\n",
    "ears = ears[ears['earNum'] < 4]\n",
    "plots = pd.pivot(ears, index = 'QR Code', columns = 'earNum')\n",
    "traitList.append('Kernel Mass')\n",
    "plots = plots.astype(float)"
   ]
  },
  {
   "cell_type": "code",
   "execution_count": null,
   "id": "54b707bc-51d0-4a1b-95b3-9729ddf7dd3b",
   "metadata": {
    "tags": []
   },
   "outputs": [],
   "source": [
    "plots.dtypes"
   ]
  },
  {
   "cell_type": "code",
   "execution_count": null,
   "id": "89d8a6a8-e4bc-463a-b0e1-e67cb57039fd",
   "metadata": {
    "tags": []
   },
   "outputs": [],
   "source": [
    "# Now that we have our nice data frame, we need to calculate the mean and standard error with all possible sets of 4 and all possible sets of 2 for each trait.\n",
    "index30 = [1, 2, 3]\n",
    "index31 = [0, 2, 3]\n",
    "index32 = [0, 1, 2]\n",
    "index20 = [0, 1]\n",
    "index21 = [0, 2]\n",
    "index22= [0, 3]\n",
    "index23 = [1, 2]\n",
    "index24= [1, 3]\n",
    "index25= [2, 3]\n",
    "index3List = [index30, index31, index32]\n",
    "index3ListStr = ['30', '31', '32']\n",
    "index2List = [index20, index21, index22, index23, index24, index25]\n",
    "index2ListStr = ['20', '21', '22', '23', '24', '25']\n",
    "\n",
    "results = pd.DataFrame()\n",
    "for i in traitList:\n",
    "    mean = i + 'mean' + '4'\n",
    "    se = i + 'se' + '4'\n",
    "    meanSeries = (plots[i][[0, 1, 2, 3]]).mean(axis = 1)\n",
    "    results[mean] = meanSeries\n",
    "    seSeries = (plots[i][[0, 1, 2, 3]]).sem(axis = 1)\n",
    "    results[se] = seSeries\n",
    "    \n",
    "    for j in range(3):\n",
    "        mean = i + 'mean' + index3ListStr[j]\n",
    "        se = i + 'se' + index3ListStr[j]\n",
    "        index = index3List[j]\n",
    "        meanSeries = (plots[i][index]).mean(axis = 1)\n",
    "        seSeries = (plots[i][index]).sem(axis = 1)\n",
    "        results[mean] = meanSeries\n",
    "        results[se] = seSeries\n",
    "        \n",
    "    for k in range(6):\n",
    "        mean = i + 'mean' + index2ListStr[k]\n",
    "        se = i + 'se' + index2ListStr[k]\n",
    "        index = index2List[k]\n",
    "        meanSeries = (plots[i][index]).mean(axis = 1)\n",
    "        seSeries = (plots[i][index]).sem(axis = 1)\n",
    "        results[mean] = meanSeries\n",
    "        results[se] = seSeries"
   ]
  },
  {
   "cell_type": "code",
   "execution_count": null,
   "id": "bf14cc11-1858-4c3b-b918-5ea97f6ea5df",
   "metadata": {
    "tags": []
   },
   "outputs": [],
   "source": [
    "meanSeries"
   ]
  },
  {
   "cell_type": "code",
   "execution_count": null,
   "id": "0a3f64bc-be2d-4615-a623-5310d3410f44",
   "metadata": {
    "tags": []
   },
   "outputs": [],
   "source": [
    "results"
   ]
  },
  {
   "cell_type": "code",
   "execution_count": 6,
   "id": "0e345ed4-36de-40d9-9637-2b7434781e9a",
   "metadata": {
    "tags": []
   },
   "outputs": [],
   "source": [
    "avgSE = pd.DataFrame()\n",
    "for t in traitList:\n",
    "    traitSE2 = t + '.SE.2'\n",
    "    traitSE3 = t + '.SE.3'\n",
    "    \n",
    "    seCols2 = []\n",
    "    for i in index2ListStr:\n",
    "        colName = t + 'se' + i\n",
    "        seCols2.append(colName)\n",
    "     \n",
    "    seCols3 = []\n",
    "    for j in index3ListStr:\n",
    "        colName = t + 'se' + j\n",
    "        seCols3.append(colName)\n",
    "        avgSE[traitSE2] = results[seCols2].mean(axis = 1)\n",
    "        avgSE[traitSE3] = results[seCols3].mean(axis = 1)\n",
    "    "
   ]
  },
  {
   "cell_type": "code",
   "execution_count": null,
   "id": "c8d3ee57-154c-4bdb-9859-51acae3f146e",
   "metadata": {
    "tags": []
   },
   "outputs": [],
   "source": [
    "avgSE"
   ]
  },
  {
   "cell_type": "code",
   "execution_count": 7,
   "id": "ab2e77de-93cb-46a6-8690-04cb3bdc42ee",
   "metadata": {
    "tags": []
   },
   "outputs": [],
   "source": [
    "corrPerSet = pd.DataFrame()\n",
    "for t in traitList:\n",
    "    fullMeanCol = t + 'mean' + '4'\n",
    "    \n",
    "    for i in index2ListStr:\n",
    "        colName = t + 'mean' + i\n",
    "        cor = results[colName].corr(results[fullMeanCol])\n",
    "        corrPerSet[colName] = pd.Series()\n",
    "        corrPerSet.at[0, colName] = cor\n",
    "    for j in index3ListStr:\n",
    "        colName = t + 'mean' + j\n",
    "        cor = results[colName].corr(results[fullMeanCol])\n",
    "        corrPerSet.at[0, colName] = cor\n",
    "    "
   ]
  },
  {
   "cell_type": "code",
   "execution_count": null,
   "id": "2823cfdc-c645-4b9b-a321-c5cb40cdbc88",
   "metadata": {
    "tags": []
   },
   "outputs": [],
   "source": [
    "corrPerSet.columns"
   ]
  },
  {
   "cell_type": "code",
   "execution_count": 8,
   "id": "38c28deb-9628-4734-b367-454fc7a3bb8d",
   "metadata": {
    "tags": []
   },
   "outputs": [],
   "source": [
    "summary = pd.DataFrame({'Set Size':[2, 3, 4]})\n",
    "\n",
    "for t in traitList:\n",
    "    sem = t + '.MeanSEM'\n",
    "    corr = t + '.MeanCorr'\n",
    "    sem2 = t + '.SE.2'\n",
    "    sem3 = t + '.SE.3'\n",
    "    semFull = t + 'se4'\n",
    "    \n",
    "    meanCols2 = []\n",
    "    for i in index2ListStr:\n",
    "        colName = t + 'mean' + i\n",
    "        meanCols2.append(colName)\n",
    "        \n",
    "    meanCols3 = []\n",
    "    for j in index3ListStr:\n",
    "        colName = t + 'mean' + j\n",
    "        meanCols3.append(colName)\n",
    "\n",
    "    summary.at[0, sem] = avgSE[sem2].mean(axis = 0)\n",
    "    summary.at[1, sem] = avgSE[sem3].mean(axis = 0)\n",
    "    summary.at[2, sem] = results[semFull].mean(axis = 0)\n",
    "    \n",
    "    summary.at[0, corr] = corrPerSet[meanCols2].mean().values[0]\n",
    "    summary.at[1, corr] = corrPerSet[meanCols3].mean().values[0]\n",
    "    summary.at[2, corr] = 1"
   ]
  },
  {
   "cell_type": "code",
   "execution_count": 22,
   "id": "6bf27c5b-9011-43c9-b1c4-241e4631dee5",
   "metadata": {
    "tags": []
   },
   "outputs": [],
   "source": [
    "# Export to csv\n",
    "summary.to_csv('../analysis/RequiredNumberOfMeasurements.csv', index = False)"
   ]
  },
  {
   "cell_type": "markdown",
   "id": "f886ebe9-d787-4dec-a1c5-808d692f65cc",
   "metadata": {},
   "source": [
    "# NIR"
   ]
  },
  {
   "cell_type": "code",
   "execution_count": 52,
   "id": "f7db6368-67aa-4ca9-84ac-315163c5323f",
   "metadata": {
    "tags": []
   },
   "outputs": [],
   "source": [
    "nir = pd.read_excel('../data/NIRData.xlsx', sheet_name = 'in', dtype = {'Sample ID':str})\n",
    "nir['protein'] = nir['Protein As is'] / (1 - (nir['Moisture'] / 100))\n",
    "nir['oil'] = nir['Oil As is'] / ( 1 - (nir['Moisture'] / 100))\n",
    "nir['fiber'] = nir['Fiber As is'] / (1 - (nir['Moisture'] / 100))\n",
    "nir['ash'] = nir['Ash As is'] / (1 - (nir['Moisture'] / 100))\n",
    "nir['starch'] = nir['Starch As is'] / (1 - (nir['Moisture'] / 100))\n",
    "nir['qr'] = nir['Sample ID'].str.upper()\n",
    "nir['qr'] = nir['qr'].astype(str)\n",
    "nir = nir.rename(columns = {'Moisture':'moisture'})\n",
    "traits = ['starch', 'protein', 'oil', 'fiber', 'ash', 'moisture']\n",
    "nir = nir[['qr', 'starch', 'protein', 'oil', 'fiber', 'ash', 'moisture']]\n",
    "# nir = nir[~nir['qr'].str.contains('SYNGENTA 3111')]\n",
    "# nir = nir[nir[traits] > 0]"
   ]
  },
  {
   "cell_type": "code",
   "execution_count": 53,
   "id": "da1638b0-b694-4c56-900a-82fefb62e380",
   "metadata": {
    "tags": []
   },
   "outputs": [
    {
     "data": {
      "text/html": [
       "<div>\n",
       "<style scoped>\n",
       "    .dataframe tbody tr th:only-of-type {\n",
       "        vertical-align: middle;\n",
       "    }\n",
       "\n",
       "    .dataframe tbody tr th {\n",
       "        vertical-align: top;\n",
       "    }\n",
       "\n",
       "    .dataframe thead th {\n",
       "        text-align: right;\n",
       "    }\n",
       "</style>\n",
       "<table border=\"1\" class=\"dataframe\">\n",
       "  <thead>\n",
       "    <tr style=\"text-align: right;\">\n",
       "      <th></th>\n",
       "      <th>qr</th>\n",
       "      <th>starch</th>\n",
       "      <th>protein</th>\n",
       "      <th>oil</th>\n",
       "      <th>fiber</th>\n",
       "      <th>ash</th>\n",
       "      <th>moisture</th>\n",
       "    </tr>\n",
       "  </thead>\n",
       "  <tbody>\n",
       "    <tr>\n",
       "      <th>0</th>\n",
       "      <td>MV$HYBRID-HIPS$REP2$PLOT66$ROW25$RANGE40$COMME...</td>\n",
       "      <td>76.711890</td>\n",
       "      <td>7.242816</td>\n",
       "      <td>1.944237</td>\n",
       "      <td>-2.189937</td>\n",
       "      <td>0.480718</td>\n",
       "      <td>6.39</td>\n",
       "    </tr>\n",
       "    <tr>\n",
       "      <th>1</th>\n",
       "      <td>MV$HYBRID-HIPS$REP2$PLOT66$ROW25$RANGE40$COMME...</td>\n",
       "      <td>68.595304</td>\n",
       "      <td>8.081235</td>\n",
       "      <td>3.903110</td>\n",
       "      <td>0.761582</td>\n",
       "      <td>0.941400</td>\n",
       "      <td>5.46</td>\n",
       "    </tr>\n",
       "    <tr>\n",
       "      <th>2</th>\n",
       "      <td>MV$HYBRID-HIPS$REP2$PLOT66$ROW25$RANGE40$COMME...</td>\n",
       "      <td>68.820730</td>\n",
       "      <td>7.625595</td>\n",
       "      <td>3.828662</td>\n",
       "      <td>0.835537</td>\n",
       "      <td>0.930724</td>\n",
       "      <td>5.45</td>\n",
       "    </tr>\n",
       "    <tr>\n",
       "      <th>3</th>\n",
       "      <td>MV$HYBRID-HIPS$REP2$PLOT66$ROW25$RANGE40$COMME...</td>\n",
       "      <td>70.262267</td>\n",
       "      <td>7.677665</td>\n",
       "      <td>3.828257</td>\n",
       "      <td>0.824873</td>\n",
       "      <td>0.920051</td>\n",
       "      <td>5.44</td>\n",
       "    </tr>\n",
       "    <tr>\n",
       "      <th>4</th>\n",
       "      <td>MV$HYBRID-HIPS$REP2$PLOT66$ROW25$RANGE40$COMME...</td>\n",
       "      <td>68.086459</td>\n",
       "      <td>8.370417</td>\n",
       "      <td>4.598432</td>\n",
       "      <td>0.646323</td>\n",
       "      <td>0.995974</td>\n",
       "      <td>5.62</td>\n",
       "    </tr>\n",
       "    <tr>\n",
       "      <th>...</th>\n",
       "      <td>...</td>\n",
       "      <td>...</td>\n",
       "      <td>...</td>\n",
       "      <td>...</td>\n",
       "      <td>...</td>\n",
       "      <td>...</td>\n",
       "      <td>...</td>\n",
       "    </tr>\n",
       "    <tr>\n",
       "      <th>8999</th>\n",
       "      <td>SCOTTSBLUFF$HYBRID-HIPS - HIGH NITROGEN$REP2$P...</td>\n",
       "      <td>71.105150</td>\n",
       "      <td>7.682403</td>\n",
       "      <td>4.120172</td>\n",
       "      <td>1.695279</td>\n",
       "      <td>1.051502</td>\n",
       "      <td>6.80</td>\n",
       "    </tr>\n",
       "    <tr>\n",
       "      <th>9000</th>\n",
       "      <td>SCOTTSBLUFF$HYBRID-HIPS - HIGH NITROGEN$REP2$P...</td>\n",
       "      <td>72.690676</td>\n",
       "      <td>8.356000</td>\n",
       "      <td>3.416386</td>\n",
       "      <td>1.272984</td>\n",
       "      <td>1.088021</td>\n",
       "      <td>8.09</td>\n",
       "    </tr>\n",
       "    <tr>\n",
       "      <th>9001</th>\n",
       "      <td>SCOTTSBLUFF$HYBRID-HIPS - HIGH NITROGEN$REP2$P...</td>\n",
       "      <td>71.479987</td>\n",
       "      <td>8.179736</td>\n",
       "      <td>4.155306</td>\n",
       "      <td>1.243320</td>\n",
       "      <td>1.112444</td>\n",
       "      <td>8.31</td>\n",
       "    </tr>\n",
       "    <tr>\n",
       "      <th>9002</th>\n",
       "      <td>SCOTTSBLUFF$HYBRID-HIPS - HIGH NITROGEN$REP2$P...</td>\n",
       "      <td>70.522997</td>\n",
       "      <td>8.339676</td>\n",
       "      <td>4.392737</td>\n",
       "      <td>1.370012</td>\n",
       "      <td>1.152550</td>\n",
       "      <td>8.03</td>\n",
       "    </tr>\n",
       "    <tr>\n",
       "      <th>9003</th>\n",
       "      <td>nan</td>\n",
       "      <td>69.733220</td>\n",
       "      <td>9.549015</td>\n",
       "      <td>3.927588</td>\n",
       "      <td>1.153928</td>\n",
       "      <td>1.111582</td>\n",
       "      <td>5.54</td>\n",
       "    </tr>\n",
       "  </tbody>\n",
       "</table>\n",
       "<p>9004 rows × 7 columns</p>\n",
       "</div>"
      ],
      "text/plain": [
       "                                                     qr     starch   protein  \\\n",
       "0     MV$HYBRID-HIPS$REP2$PLOT66$ROW25$RANGE40$COMME...  76.711890  7.242816   \n",
       "1     MV$HYBRID-HIPS$REP2$PLOT66$ROW25$RANGE40$COMME...  68.595304  8.081235   \n",
       "2     MV$HYBRID-HIPS$REP2$PLOT66$ROW25$RANGE40$COMME...  68.820730  7.625595   \n",
       "3     MV$HYBRID-HIPS$REP2$PLOT66$ROW25$RANGE40$COMME...  70.262267  7.677665   \n",
       "4     MV$HYBRID-HIPS$REP2$PLOT66$ROW25$RANGE40$COMME...  68.086459  8.370417   \n",
       "...                                                 ...        ...       ...   \n",
       "8999  SCOTTSBLUFF$HYBRID-HIPS - HIGH NITROGEN$REP2$P...  71.105150  7.682403   \n",
       "9000  SCOTTSBLUFF$HYBRID-HIPS - HIGH NITROGEN$REP2$P...  72.690676  8.356000   \n",
       "9001  SCOTTSBLUFF$HYBRID-HIPS - HIGH NITROGEN$REP2$P...  71.479987  8.179736   \n",
       "9002  SCOTTSBLUFF$HYBRID-HIPS - HIGH NITROGEN$REP2$P...  70.522997  8.339676   \n",
       "9003                                                nan  69.733220  9.549015   \n",
       "\n",
       "           oil     fiber       ash  moisture  \n",
       "0     1.944237 -2.189937  0.480718      6.39  \n",
       "1     3.903110  0.761582  0.941400      5.46  \n",
       "2     3.828662  0.835537  0.930724      5.45  \n",
       "3     3.828257  0.824873  0.920051      5.44  \n",
       "4     4.598432  0.646323  0.995974      5.62  \n",
       "...        ...       ...       ...       ...  \n",
       "8999  4.120172  1.695279  1.051502      6.80  \n",
       "9000  3.416386  1.272984  1.088021      8.09  \n",
       "9001  4.155306  1.243320  1.112444      8.31  \n",
       "9002  4.392737  1.370012  1.152550      8.03  \n",
       "9003  3.927588  1.153928  1.111582      5.54  \n",
       "\n",
       "[9004 rows x 7 columns]"
      ]
     },
     "execution_count": 53,
     "metadata": {},
     "output_type": "execute_result"
    }
   ],
   "source": [
    "nir"
   ]
  }
 ],
 "metadata": {
  "kernelspec": {
   "display_name": "Python 3 (ipykernel)",
   "language": "python",
   "name": "python3"
  },
  "language_info": {
   "codemirror_mode": {
    "name": "ipython",
    "version": 3
   },
   "file_extension": ".py",
   "mimetype": "text/x-python",
   "name": "python",
   "nbconvert_exporter": "python",
   "pygments_lexer": "ipython3",
   "version": "3.11.5"
  }
 },
 "nbformat": 4,
 "nbformat_minor": 5
}
